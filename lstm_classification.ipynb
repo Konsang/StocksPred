{
 "cells": [
  {
   "cell_type": "code",
   "execution_count": 24,
   "metadata": {},
   "outputs": [],
   "source": [
    "import time\n",
    "import keras\n",
    "import math\n",
    "from keras.models import Sequential\n",
    "from keras.layers.core import Dense, Dropout, Activation\n",
    "from keras.layers.recurrent import LSTM\n",
    "import numpy as np\n",
    "import pandas as pd\n",
    "import sklearn.preprocessing as prep"
   ]
  },
  {
   "cell_type": "code",
   "execution_count": 25,
   "metadata": {},
   "outputs": [
    {
     "name": "stderr",
     "output_type": "stream",
     "text": [
      "/usr/local/lib/python3.5/dist-packages/IPython/core/interactiveshell.py:2683: DtypeWarning: Columns (0) have mixed types. Specify dtype option on import or set low_memory=False.\n",
      "  interactivity=interactivity, compiler=compiler, result=result)\n"
     ]
    },
    {
     "data": {
      "text/html": [
       "<div>\n",
       "<table border=\"1\" class=\"dataframe\">\n",
       "  <thead>\n",
       "    <tr style=\"text-align: right;\">\n",
       "      <th></th>\n",
       "      <th>Open</th>\n",
       "      <th>High</th>\n",
       "      <th>Low</th>\n",
       "      <th>Close</th>\n",
       "      <th>Rat</th>\n",
       "    </tr>\n",
       "  </thead>\n",
       "  <tbody>\n",
       "    <tr>\n",
       "      <th>0</th>\n",
       "      <td>5564.649902</td>\n",
       "      <td>5608.649902</td>\n",
       "      <td>5394.350098</td>\n",
       "      <td>5519.350098</td>\n",
       "      <td>1.0</td>\n",
       "    </tr>\n",
       "    <tr>\n",
       "      <th>1</th>\n",
       "      <td>5524.299805</td>\n",
       "      <td>5638.600098</td>\n",
       "      <td>5514.750000</td>\n",
       "      <td>5608.600098</td>\n",
       "      <td>1.0</td>\n",
       "    </tr>\n",
       "    <tr>\n",
       "      <th>2</th>\n",
       "      <td>5611.299805</td>\n",
       "      <td>5772.549805</td>\n",
       "      <td>5608.950195</td>\n",
       "      <td>5731.700195</td>\n",
       "      <td>0.0</td>\n",
       "    </tr>\n",
       "    <tr>\n",
       "      <th>3</th>\n",
       "      <td>5729.250000</td>\n",
       "      <td>5743.549805</td>\n",
       "      <td>5655.600098</td>\n",
       "      <td>5698.149902</td>\n",
       "      <td>0.0</td>\n",
       "    </tr>\n",
       "    <tr>\n",
       "      <th>4</th>\n",
       "      <td>5699.549805</td>\n",
       "      <td>5749.950195</td>\n",
       "      <td>5595.500000</td>\n",
       "      <td>5617.549805</td>\n",
       "      <td>1.0</td>\n",
       "    </tr>\n",
       "  </tbody>\n",
       "</table>\n",
       "</div>"
      ],
      "text/plain": [
       "          Open         High          Low        Close  Rat\n",
       "0  5564.649902  5608.649902  5394.350098  5519.350098  1.0\n",
       "1  5524.299805  5638.600098  5514.750000  5608.600098  1.0\n",
       "2  5611.299805  5772.549805  5608.950195  5731.700195  0.0\n",
       "3  5729.250000  5743.549805  5655.600098  5698.149902  0.0\n",
       "4  5699.549805  5749.950195  5595.500000  5617.549805  1.0"
      ]
     },
     "execution_count": 25,
     "metadata": {},
     "output_type": "execute_result"
    }
   ],
   "source": [
    "df = pd.read_csv('^NSEI_withoutnull.csv')\n",
    "df = df.dropna(axis=0, how='any')\n",
    "df = df.drop(['Date'], axis=1)\n",
    "df['Future_Close'] = df[' Future_Close']\n",
    "df = df.drop([' Future_Close'], axis=1)\n",
    "df['Rat'] = df['Future_Close']/df['Close']\n",
    "df['Rat'] = df['Rat']>1\n",
    "df['Rat'] = df['Rat'].astype(float)\n",
    "df = df.drop(['Future_Close'], axis=1)\n",
    "df.head()"
   ]
  },
  {
   "cell_type": "code",
   "execution_count": 26,
   "metadata": {
    "collapsed": true
   },
   "outputs": [],
   "source": [
    "def standard_scaler(X_train, X_test):\n",
    "    train_samples, train_nx, train_ny = X_train.shape\n",
    "    test_samples, test_nx, test_ny = X_test.shape\n",
    "    \n",
    "    X_train = X_train.reshape((train_samples, train_nx * train_ny))\n",
    "    X_test = X_test.reshape((test_samples, test_nx * test_ny))\n",
    "    \n",
    "    preprocessor = prep.StandardScaler().fit(X_train)\n",
    "    X_train = preprocessor.transform(X_train)\n",
    "    X_test = preprocessor.transform(X_test)\n",
    "    \n",
    "    X_train = X_train.reshape((train_samples, train_nx, train_ny))\n",
    "    X_test = X_test.reshape((test_samples, test_nx, test_ny))\n",
    "    \n",
    "    return X_train, X_test"
   ]
  },
  {
   "cell_type": "code",
   "execution_count": 27,
   "metadata": {
    "collapsed": true
   },
   "outputs": [],
   "source": [
    "def preprocess_data(stock, seq_len):\n",
    "    amount_of_features = len(stock.columns)\n",
    "    data = stock.as_matrix()\n",
    "    \n",
    "    sequence_length = seq_len + 1\n",
    "    result = []\n",
    "    for index in range(len(data) - sequence_length):\n",
    "        result.append(data[index : index + sequence_length])\n",
    "        \n",
    "    result = np.array(result)\n",
    "    row = round(0.9 * result.shape[0])\n",
    "    train = result[: int(row), :]\n",
    "    \n",
    "    train, result = standard_scaler(train, result)\n",
    "    \n",
    "    X_train = train[:, : -1]\n",
    "    y_train = train[:, -1][: ,-1]\n",
    "    X_test = result[int(row) :, : -1]\n",
    "    y_test = result[int(row) :, -1][ : ,-1]\n",
    "\n",
    "    X_train = np.reshape(X_train, (X_train.shape[0], X_train.shape[1], amount_of_features))\n",
    "    X_test = np.reshape(X_test, (X_test.shape[0], X_test.shape[1], amount_of_features))  \n",
    "\n",
    "    return [X_train, y_train, X_test, y_test]"
   ]
  },
  {
   "cell_type": "code",
   "execution_count": 28,
   "metadata": {
    "collapsed": true
   },
   "outputs": [],
   "source": [
    "def build_model(layers):\n",
    "    model = Sequential()\n",
    "\n",
    "    # By setting return_sequences to True we are able to stack another LSTM layer\n",
    "    model.add(LSTM(\n",
    "        input_dim=layers[0],\n",
    "        output_dim=layers[1],\n",
    "        return_sequences=True))\n",
    "    model.add(Dropout(0.3))\n",
    "\n",
    "    model.add(LSTM(\n",
    "        layers[2],\n",
    "        return_sequences=False))\n",
    "    model.add(Dropout(0.3))\n",
    "\n",
    "    model.add(Dense(\n",
    "        output_dim=layers[3]))\n",
    "    model.add(Activation(\"linear\"))\n",
    "\n",
    "    start = time.time()\n",
    "    model.compile(loss=keras.losses.binary_crossentropy, optimizer=\"rmsprop\", metrics=['accuracy'])\n",
    "    print(\"Compilation Time : \", time.time() - start)\n",
    "    return model"
   ]
  },
  {
   "cell_type": "code",
   "execution_count": 29,
   "metadata": {
    "collapsed": true
   },
   "outputs": [],
   "source": [
    "df = df.astype(float)"
   ]
  },
  {
   "cell_type": "code",
   "execution_count": 30,
   "metadata": {},
   "outputs": [
    {
     "name": "stdout",
     "output_type": "stream",
     "text": [
      "X_train (2171, 5, 5)\n",
      "y_train (2171,)\n",
      "X_test (241, 5, 5)\n",
      "y_test (241,)\n"
     ]
    }
   ],
   "source": [
    "window = 5\n",
    "X_train, y_train, X_test, y_test = preprocess_data(df[:: -1], window)\n",
    "print(\"X_train\", X_train.shape)\n",
    "print(\"y_train\", y_train.shape)\n",
    "print(\"X_test\", X_test.shape)\n",
    "print(\"y_test\", y_test.shape)"
   ]
  },
  {
   "cell_type": "code",
   "execution_count": 31,
   "metadata": {},
   "outputs": [
    {
     "name": "stderr",
     "output_type": "stream",
     "text": [
      "/usr/local/lib/python3.5/dist-packages/ipykernel_launcher.py:8: UserWarning: The `input_dim` and `input_length` arguments in recurrent layers are deprecated. Use `input_shape` instead.\n",
      "  \n",
      "/usr/local/lib/python3.5/dist-packages/ipykernel_launcher.py:8: UserWarning: Update your `LSTM` call to the Keras 2 API: `LSTM(units=5, input_shape=(None, 5), return_sequences=True)`\n",
      "  \n"
     ]
    },
    {
     "name": "stdout",
     "output_type": "stream",
     "text": [
      "Compilation Time :  0.03200793266296387\n"
     ]
    },
    {
     "name": "stderr",
     "output_type": "stream",
     "text": [
      "/usr/local/lib/python3.5/dist-packages/ipykernel_launcher.py:17: UserWarning: Update your `Dense` call to the Keras 2 API: `Dense(units=1)`\n"
     ]
    }
   ],
   "source": [
    "model = build_model([X_train.shape[2], window, 100, 1])"
   ]
  },
  {
   "cell_type": "code",
   "execution_count": 32,
   "metadata": {},
   "outputs": [
    {
     "name": "stderr",
     "output_type": "stream",
     "text": [
      "/usr/local/lib/python3.5/dist-packages/keras/models.py:837: UserWarning: The `nb_epoch` argument in `fit` has been renamed `epochs`.\n",
      "  warnings.warn('The `nb_epoch` argument in `fit` '\n"
     ]
    },
    {
     "name": "stdout",
     "output_type": "stream",
     "text": [
      "Train on 1736 samples, validate on 435 samples\n",
      "Epoch 1/100\n",
      "0s - loss: 0.0782 - acc: 0.0000e+00 - val_loss: 0.1797 - val_acc: 0.0000e+00\n",
      "Epoch 2/100\n",
      "0s - loss: -7.3388e-03 - acc: 0.0000e+00 - val_loss: 0.1796 - val_acc: 0.0000e+00\n",
      "Epoch 3/100\n",
      "0s - loss: 0.0082 - acc: 0.0000e+00 - val_loss: 0.1764 - val_acc: 0.0000e+00\n",
      "Epoch 4/100\n",
      "0s - loss: 0.0523 - acc: 0.0000e+00 - val_loss: 0.3687 - val_acc: 0.0000e+00\n",
      "Epoch 5/100\n",
      "0s - loss: -3.2977e-02 - acc: 0.0000e+00 - val_loss: 0.3104 - val_acc: 0.0000e+00\n",
      "Epoch 6/100\n",
      "0s - loss: -1.3132e-01 - acc: 0.0000e+00 - val_loss: 0.6218 - val_acc: 0.0000e+00\n",
      "Epoch 7/100\n",
      "0s - loss: -8.0639e-02 - acc: 0.0000e+00 - val_loss: 0.6218 - val_acc: 0.0000e+00\n",
      "Epoch 8/100\n",
      "0s - loss: -2.6914e-01 - acc: 0.0000e+00 - val_loss: 0.6218 - val_acc: 0.0000e+00\n",
      "Epoch 9/100\n",
      "0s - loss: -1.8800e-01 - acc: 0.0000e+00 - val_loss: 0.6218 - val_acc: 0.0000e+00\n",
      "Epoch 10/100\n",
      "0s - loss: -2.5242e-01 - acc: 0.0000e+00 - val_loss: 0.6218 - val_acc: 0.0000e+00\n",
      "Epoch 11/100\n",
      "0s - loss: -2.9249e-01 - acc: 0.0000e+00 - val_loss: 0.5997 - val_acc: 0.0000e+00\n",
      "Epoch 12/100\n",
      "0s - loss: -1.0817e-01 - acc: 0.0000e+00 - val_loss: 0.0654 - val_acc: 0.0000e+00\n",
      "Epoch 13/100\n",
      "0s - loss: -8.7221e-02 - acc: 0.0000e+00 - val_loss: 0.1301 - val_acc: 0.0000e+00\n",
      "Epoch 14/100\n",
      "0s - loss: 0.0285 - acc: 0.0000e+00 - val_loss: 0.1641 - val_acc: 0.0000e+00\n",
      "Epoch 15/100\n",
      "0s - loss: -1.4533e-01 - acc: 0.0000e+00 - val_loss: 0.5765 - val_acc: 0.0000e+00\n",
      "Epoch 16/100\n",
      "0s - loss: 0.0834 - acc: 0.0000e+00 - val_loss: 0.1768 - val_acc: 0.0000e+00\n",
      "Epoch 17/100\n",
      "0s - loss: 0.0668 - acc: 0.0000e+00 - val_loss: 0.1758 - val_acc: 0.0000e+00\n",
      "Epoch 18/100\n",
      "0s - loss: 0.0617 - acc: 0.0000e+00 - val_loss: 0.1776 - val_acc: 0.0000e+00\n",
      "Epoch 19/100\n",
      "0s - loss: 0.1853 - acc: 0.0000e+00 - val_loss: 0.1764 - val_acc: 0.0000e+00\n",
      "Epoch 20/100\n",
      "0s - loss: 0.0954 - acc: 0.0000e+00 - val_loss: 0.1868 - val_acc: 0.0000e+00\n",
      "Epoch 21/100\n",
      "0s - loss: 0.0797 - acc: 0.0000e+00 - val_loss: 0.1832 - val_acc: 0.0000e+00\n",
      "Epoch 22/100\n",
      "0s - loss: 0.1365 - acc: 0.0000e+00 - val_loss: 0.1838 - val_acc: 0.0000e+00\n",
      "Epoch 23/100\n",
      "0s - loss: 0.2048 - acc: 0.0000e+00 - val_loss: 0.1835 - val_acc: 0.0000e+00\n",
      "Epoch 24/100\n",
      "0s - loss: 0.2796 - acc: 0.0000e+00 - val_loss: 0.1839 - val_acc: 0.0000e+00\n",
      "Epoch 25/100\n",
      "0s - loss: 0.1658 - acc: 0.0000e+00 - val_loss: 0.1834 - val_acc: 0.0000e+00\n",
      "Epoch 26/100\n",
      "0s - loss: -1.1414e-01 - acc: 0.0000e+00 - val_loss: 0.1823 - val_acc: 0.0000e+00\n",
      "Epoch 27/100\n",
      "0s - loss: -6.6129e-03 - acc: 0.0000e+00 - val_loss: 0.1829 - val_acc: 0.0000e+00\n",
      "Epoch 28/100\n",
      "0s - loss: 0.2638 - acc: 0.0000e+00 - val_loss: 0.1835 - val_acc: 0.0000e+00\n",
      "Epoch 29/100\n",
      "0s - loss: 0.1872 - acc: 0.0000e+00 - val_loss: 0.1821 - val_acc: 0.0000e+00\n",
      "Epoch 30/100\n",
      "0s - loss: 0.2295 - acc: 0.0000e+00 - val_loss: 0.1817 - val_acc: 0.0000e+00\n",
      "Epoch 31/100\n",
      "0s - loss: 0.2026 - acc: 0.0000e+00 - val_loss: 0.1814 - val_acc: 0.0000e+00\n",
      "Epoch 32/100\n",
      "0s - loss: 0.0574 - acc: 0.0000e+00 - val_loss: 0.1826 - val_acc: 0.0000e+00\n",
      "Epoch 33/100\n",
      "0s - loss: 0.1790 - acc: 0.0000e+00 - val_loss: 0.1794 - val_acc: 0.0000e+00\n",
      "Epoch 34/100\n",
      "0s - loss: 0.1024 - acc: 0.0000e+00 - val_loss: 0.1790 - val_acc: 0.0000e+00\n",
      "Epoch 35/100\n",
      "0s - loss: 0.2142 - acc: 0.0000e+00 - val_loss: 0.1781 - val_acc: 0.0000e+00\n",
      "Epoch 36/100\n",
      "0s - loss: 0.1001 - acc: 0.0000e+00 - val_loss: 0.1817 - val_acc: 0.0000e+00\n",
      "Epoch 37/100\n",
      "0s - loss: 0.0969 - acc: 0.0000e+00 - val_loss: 0.1804 - val_acc: 0.0000e+00\n",
      "Epoch 38/100\n",
      "0s - loss: 0.1861 - acc: 0.0000e+00 - val_loss: 0.1795 - val_acc: 0.0000e+00\n",
      "Epoch 39/100\n",
      "0s - loss: 0.0903 - acc: 0.0000e+00 - val_loss: 0.1791 - val_acc: 0.0000e+00\n",
      "Epoch 40/100\n",
      "0s - loss: 0.1943 - acc: 0.0000e+00 - val_loss: 0.1785 - val_acc: 0.0000e+00\n",
      "Epoch 41/100\n",
      "0s - loss: -9.1958e-03 - acc: 0.0000e+00 - val_loss: 0.1740 - val_acc: 0.0000e+00\n",
      "Epoch 42/100\n",
      "0s - loss: 0.1871 - acc: 0.0000e+00 - val_loss: 0.1715 - val_acc: 0.0000e+00\n",
      "Epoch 43/100\n",
      "0s - loss: 0.1099 - acc: 0.0000e+00 - val_loss: 0.1745 - val_acc: 0.0000e+00\n",
      "Epoch 44/100\n",
      "0s - loss: 0.2043 - acc: 0.0000e+00 - val_loss: 0.1719 - val_acc: 0.0000e+00\n",
      "Epoch 45/100\n",
      "0s - loss: 0.1616 - acc: 0.0000e+00 - val_loss: 0.1717 - val_acc: 0.0000e+00\n",
      "Epoch 46/100\n",
      "0s - loss: 0.0826 - acc: 0.0000e+00 - val_loss: 0.1714 - val_acc: 0.0000e+00\n",
      "Epoch 47/100\n",
      "0s - loss: 0.1979 - acc: 0.0000e+00 - val_loss: 0.1725 - val_acc: 0.0000e+00\n",
      "Epoch 48/100\n",
      "0s - loss: 0.1428 - acc: 0.0000e+00 - val_loss: 0.1729 - val_acc: 0.0000e+00\n",
      "Epoch 49/100\n",
      "0s - loss: 0.1358 - acc: 0.0000e+00 - val_loss: 0.1725 - val_acc: 0.0000e+00\n",
      "Epoch 50/100\n",
      "0s - loss: 0.1471 - acc: 0.0000e+00 - val_loss: 0.1700 - val_acc: 0.0000e+00\n",
      "Epoch 51/100\n",
      "0s - loss: 0.0643 - acc: 0.0000e+00 - val_loss: 0.1691 - val_acc: 0.0000e+00\n",
      "Epoch 52/100\n",
      "0s - loss: 0.1738 - acc: 0.0000e+00 - val_loss: 0.1736 - val_acc: 0.0000e+00\n",
      "Epoch 53/100\n",
      "0s - loss: 0.0233 - acc: 0.0000e+00 - val_loss: 0.1733 - val_acc: 0.0000e+00\n",
      "Epoch 54/100\n",
      "0s - loss: 9.3414e-04 - acc: 0.0000e+00 - val_loss: 0.1700 - val_acc: 0.0000e+00\n",
      "Epoch 55/100\n",
      "0s - loss: 0.0028 - acc: 0.0000e+00 - val_loss: 0.1681 - val_acc: 0.0000e+00\n",
      "Epoch 56/100\n",
      "0s - loss: 0.1346 - acc: 0.0000e+00 - val_loss: 0.1712 - val_acc: 0.0000e+00\n",
      "Epoch 57/100\n",
      "0s - loss: 0.0790 - acc: 0.0000e+00 - val_loss: 0.1641 - val_acc: 0.0000e+00\n",
      "Epoch 58/100\n",
      "0s - loss: 0.0396 - acc: 0.0000e+00 - val_loss: 0.1658 - val_acc: 0.0000e+00\n",
      "Epoch 59/100\n",
      "0s - loss: -1.5737e-02 - acc: 0.0000e+00 - val_loss: 0.1635 - val_acc: 0.0000e+00\n",
      "Epoch 60/100\n",
      "0s - loss: -2.4047e-02 - acc: 0.0000e+00 - val_loss: 0.3504 - val_acc: 0.0000e+00\n",
      "Epoch 61/100\n",
      "0s - loss: -1.1686e-01 - acc: 0.0000e+00 - val_loss: 0.6218 - val_acc: 0.0000e+00\n",
      "Epoch 62/100\n",
      "0s - loss: -1.5746e-01 - acc: 0.0000e+00 - val_loss: 0.5909 - val_acc: 0.0000e+00\n",
      "Epoch 63/100\n",
      "0s - loss: -1.9393e-01 - acc: 0.0000e+00 - val_loss: 0.1590 - val_acc: 0.0000e+00\n",
      "Epoch 64/100\n",
      "0s - loss: -8.0366e-02 - acc: 0.0000e+00 - val_loss: 0.1608 - val_acc: 0.0000e+00\n",
      "Epoch 65/100\n",
      "0s - loss: 0.0253 - acc: 0.0000e+00 - val_loss: 0.1585 - val_acc: 0.0000e+00\n",
      "Epoch 66/100\n",
      "0s - loss: -5.1498e-02 - acc: 0.0000e+00 - val_loss: 0.1667 - val_acc: 0.0000e+00\n",
      "Epoch 67/100\n",
      "0s - loss: -1.0475e-01 - acc: 0.0000e+00 - val_loss: 0.1638 - val_acc: 0.0000e+00\n",
      "Epoch 68/100\n",
      "0s - loss: -9.5993e-02 - acc: 0.0000e+00 - val_loss: 0.4098 - val_acc: 0.0000e+00\n",
      "Epoch 69/100\n",
      "0s - loss: -3.3984e-02 - acc: 0.0000e+00 - val_loss: 0.1156 - val_acc: 0.0000e+00\n",
      "Epoch 70/100\n",
      "0s - loss: -8.4058e-02 - acc: 0.0000e+00 - val_loss: 0.6218 - val_acc: 0.0000e+00\n",
      "Epoch 71/100\n",
      "0s - loss: -3.0017e-01 - acc: 0.0000e+00 - val_loss: 0.6037 - val_acc: 0.0000e+00\n",
      "Epoch 72/100\n",
      "0s - loss: -1.0191e-01 - acc: 0.0000e+00 - val_loss: 0.5941 - val_acc: 0.0000e+00\n",
      "Epoch 73/100\n",
      "0s - loss: -3.7863e-01 - acc: 0.0000e+00 - val_loss: 0.1778 - val_acc: 0.0000e+00\n",
      "Epoch 74/100\n",
      "0s - loss: -8.1667e-02 - acc: 0.0000e+00 - val_loss: 0.4251 - val_acc: 0.0000e+00\n",
      "Epoch 75/100\n",
      "0s - loss: -6.9239e-02 - acc: 0.0000e+00 - val_loss: 0.5769 - val_acc: 0.0000e+00\n",
      "Epoch 76/100\n",
      "0s - loss: -4.8137e-02 - acc: 0.0000e+00 - val_loss: 0.5773 - val_acc: 0.0000e+00\n",
      "Epoch 77/100\n",
      "0s - loss: -7.9231e-02 - acc: 0.0000e+00 - val_loss: 0.6013 - val_acc: 0.0000e+00\n",
      "Epoch 78/100\n",
      "0s - loss: -2.3402e-01 - acc: 0.0000e+00 - val_loss: 0.6214 - val_acc: 0.0000e+00\n",
      "Epoch 79/100\n",
      "0s - loss: -2.0426e-01 - acc: 0.0000e+00 - val_loss: 0.6226 - val_acc: 0.0000e+00\n",
      "Epoch 80/100\n",
      "0s - loss: -3.0068e-01 - acc: 0.0000e+00 - val_loss: 0.6218 - val_acc: 0.0000e+00\n",
      "Epoch 81/100\n",
      "0s - loss: -9.5843e-02 - acc: 0.0000e+00 - val_loss: 0.6010 - val_acc: 0.0000e+00\n",
      "Epoch 82/100\n",
      "0s - loss: -2.8701e-01 - acc: 0.0000e+00 - val_loss: 0.6222 - val_acc: 0.0000e+00\n",
      "Epoch 83/100\n",
      "0s - loss: -1.4332e-01 - acc: 0.0000e+00 - val_loss: 0.6118 - val_acc: 0.0000e+00\n",
      "Epoch 84/100\n",
      "0s - loss: -1.7396e-01 - acc: 0.0000e+00 - val_loss: 0.5427 - val_acc: 0.0000e+00\n",
      "Epoch 85/100\n",
      "0s - loss: -1.8867e-01 - acc: 0.0000e+00 - val_loss: 0.5753 - val_acc: 0.0000e+00\n",
      "Epoch 86/100\n",
      "0s - loss: -1.4719e-01 - acc: 0.0000e+00 - val_loss: 0.2459 - val_acc: 0.0000e+00\n",
      "Epoch 87/100\n",
      "0s - loss: -3.0759e-01 - acc: 0.0000e+00 - val_loss: 0.6000 - val_acc: 0.0000e+00\n",
      "Epoch 88/100\n",
      "0s - loss: -2.7345e-01 - acc: 0.0000e+00 - val_loss: 0.6218 - val_acc: 0.0000e+00\n",
      "Epoch 89/100\n",
      "0s - loss: -1.9228e-01 - acc: 0.0000e+00 - val_loss: 0.6218 - val_acc: 0.0000e+00\n",
      "Epoch 90/100\n"
     ]
    },
    {
     "name": "stdout",
     "output_type": "stream",
     "text": [
      "0s - loss: -1.8544e-01 - acc: 0.0000e+00 - val_loss: 0.6218 - val_acc: 0.0000e+00\n",
      "Epoch 91/100\n",
      "0s - loss: -2.9447e-01 - acc: 0.0000e+00 - val_loss: 0.6218 - val_acc: 0.0000e+00\n",
      "Epoch 92/100\n",
      "0s - loss: -2.5822e-01 - acc: 0.0000e+00 - val_loss: 0.6218 - val_acc: 0.0000e+00\n",
      "Epoch 93/100\n",
      "0s - loss: -2.5203e-01 - acc: 0.0000e+00 - val_loss: 0.6218 - val_acc: 0.0000e+00\n",
      "Epoch 94/100\n",
      "0s - loss: -2.4046e-01 - acc: 0.0000e+00 - val_loss: 0.6218 - val_acc: 0.0000e+00\n",
      "Epoch 95/100\n",
      "0s - loss: -3.0081e-01 - acc: 0.0000e+00 - val_loss: 0.6218 - val_acc: 0.0000e+00\n",
      "Epoch 96/100\n",
      "0s - loss: -2.7729e-01 - acc: 0.0000e+00 - val_loss: 0.6218 - val_acc: 0.0000e+00\n",
      "Epoch 97/100\n",
      "0s - loss: -1.8739e-01 - acc: 0.0000e+00 - val_loss: 0.6218 - val_acc: 0.0000e+00\n",
      "Epoch 98/100\n",
      "0s - loss: -1.3569e-01 - acc: 0.0000e+00 - val_loss: 0.6218 - val_acc: 0.0000e+00\n",
      "Epoch 99/100\n",
      "0s - loss: -2.3290e-01 - acc: 0.0000e+00 - val_loss: 0.6218 - val_acc: 0.0000e+00\n",
      "Epoch 100/100\n",
      "0s - loss: -2.3802e-01 - acc: 0.0000e+00 - val_loss: 0.6218 - val_acc: 0.0000e+00\n"
     ]
    },
    {
     "data": {
      "text/plain": [
       "<keras.callbacks.History at 0x7f13730ccc18>"
      ]
     },
     "execution_count": 32,
     "metadata": {},
     "output_type": "execute_result"
    }
   ],
   "source": [
    "model.fit(\n",
    "    X_train,\n",
    "    y_train,\n",
    "    batch_size=768,\n",
    "    nb_epoch=100,\n",
    "    validation_split=0.2,\n",
    "    verbose=2)"
   ]
  },
  {
   "cell_type": "code",
   "execution_count": 33,
   "metadata": {},
   "outputs": [
    {
     "name": "stdout",
     "output_type": "stream",
     "text": [
      "Train Score: -0.04 MSE (0.21 RMSE)\n",
      "Test Score: -1.09 MSE (1.04 RMSE)\n"
     ]
    }
   ],
   "source": [
    "trainScore = model.evaluate(X_train, y_train, verbose=0)\n",
    "print('Train Score: %.2f MSE (%.2f RMSE)' % (trainScore[0], math.sqrt(np.abs(trainScore[0]))))\n",
    "\n",
    "testScore = model.evaluate(X_test, y_test, verbose=0)\n",
    "print('Test Score: %.2f MSE (%.2f RMSE)' % (testScore[0], math.sqrt(np.abs(testScore[0]))))"
   ]
  },
  {
   "cell_type": "code",
   "execution_count": 34,
   "metadata": {},
   "outputs": [],
   "source": [
    "import seaborn as sns"
   ]
  },
  {
   "cell_type": "code",
   "execution_count": 35,
   "metadata": {
    "collapsed": true
   },
   "outputs": [],
   "source": [
    "pred1 = model.predict(X_train)"
   ]
  },
  {
   "cell_type": "code",
   "execution_count": 36,
   "metadata": {},
   "outputs": [
    {
     "name": "stdout",
     "output_type": "stream",
     "text": [
      "[[ 0.09349311]\n",
      " [ 0.08596593]\n",
      " [ 0.07702178]\n",
      " ..., \n",
      " [-0.12954617]\n",
      " [-0.13265641]\n",
      " [-0.13223006]]\n"
     ]
    }
   ],
   "source": [
    "print(pred1)"
   ]
  },
  {
   "cell_type": "code",
   "execution_count": null,
   "metadata": {
    "collapsed": true
   },
   "outputs": [],
   "source": []
  }
 ],
 "metadata": {
  "kernelspec": {
   "display_name": "Python 3",
   "language": "python",
   "name": "python3"
  },
  "language_info": {
   "codemirror_mode": {
    "name": "ipython",
    "version": 3
   },
   "file_extension": ".py",
   "mimetype": "text/x-python",
   "name": "python",
   "nbconvert_exporter": "python",
   "pygments_lexer": "ipython3",
   "version": "3.5.2"
  }
 },
 "nbformat": 4,
 "nbformat_minor": 2
}
